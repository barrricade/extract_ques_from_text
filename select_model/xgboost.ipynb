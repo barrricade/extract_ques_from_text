{
 "cells": [
  {
   "cell_type": "code",
   "execution_count": 1,
   "metadata": {},
   "outputs": [],
   "source": [
    "from xgboost import XGBClassifier\n",
    "import pandas as pd\n",
    "import numpy as np"
   ]
  },
  {
   "cell_type": "code",
   "execution_count": 2,
   "metadata": {},
   "outputs": [
    {
     "data": {
      "text/html": [
       "<div>\n",
       "<style scoped>\n",
       "    .dataframe tbody tr th:only-of-type {\n",
       "        vertical-align: middle;\n",
       "    }\n",
       "\n",
       "    .dataframe tbody tr th {\n",
       "        vertical-align: top;\n",
       "    }\n",
       "\n",
       "    .dataframe thead th {\n",
       "        text-align: right;\n",
       "    }\n",
       "</style>\n",
       "<table border=\"1\" class=\"dataframe\">\n",
       "  <thead>\n",
       "    <tr style=\"text-align: right;\">\n",
       "      <th></th>\n",
       "      <th>content</th>\n",
       "      <th>label</th>\n",
       "      <th>tokens</th>\n",
       "    </tr>\n",
       "  </thead>\n",
       "  <tbody>\n",
       "    <tr>\n",
       "      <th>0</th>\n",
       "      <td>什么是电气一次设备和一次回路</td>\n",
       "      <td>1.0</td>\n",
       "      <td>['什么', '是', '电气', '一次', '设备', '和', '一次', '回路']</td>\n",
       "    </tr>\n",
       "    <tr>\n",
       "      <th>1</th>\n",
       "      <td>一次设备是指直接生产输送和分配电能的高压</td>\n",
       "      <td>0.0</td>\n",
       "      <td>['一次', '设备', '是', '指', '直接', '生产', '输送', '和', ...</td>\n",
       "    </tr>\n",
       "    <tr>\n",
       "      <th>2</th>\n",
       "      <td>什么是电气二次设备和二次回路</td>\n",
       "      <td>1.0</td>\n",
       "      <td>['什么', '是', '电气', '二次', '设备', '和', '二次', '回路']</td>\n",
       "    </tr>\n",
       "    <tr>\n",
       "      <th>3</th>\n",
       "      <td>二次设备是指对一次设备的工作进行监测控制</td>\n",
       "      <td>0.0</td>\n",
       "      <td>['二次', '设备', '是', '指', '对', '一次', '设备', '的', '...</td>\n",
       "    </tr>\n",
       "    <tr>\n",
       "      <th>4</th>\n",
       "      <td>哪些回路属于连接保护装置的二次回路</td>\n",
       "      <td>1.0</td>\n",
       "      <td>['哪些', '回路', '属于', '连接', '保护装置', '的', '二次', '回路']</td>\n",
       "    </tr>\n",
       "  </tbody>\n",
       "</table>\n",
       "</div>"
      ],
      "text/plain": [
       "                content  label  \\\n",
       "0        什么是电气一次设备和一次回路    1.0   \n",
       "1  一次设备是指直接生产输送和分配电能的高压    0.0   \n",
       "2        什么是电气二次设备和二次回路    1.0   \n",
       "3  二次设备是指对一次设备的工作进行监测控制    0.0   \n",
       "4     哪些回路属于连接保护装置的二次回路    1.0   \n",
       "\n",
       "                                              tokens  \n",
       "0     ['什么', '是', '电气', '一次', '设备', '和', '一次', '回路']  \n",
       "1  ['一次', '设备', '是', '指', '直接', '生产', '输送', '和', ...  \n",
       "2     ['什么', '是', '电气', '二次', '设备', '和', '二次', '回路']  \n",
       "3  ['二次', '设备', '是', '指', '对', '一次', '设备', '的', '...  \n",
       "4  ['哪些', '回路', '属于', '连接', '保护装置', '的', '二次', '回路']  "
      ]
     },
     "execution_count": 2,
     "metadata": {},
     "output_type": "execute_result"
    }
   ],
   "source": [
    "train = pd.read_csv(\"./train3.csv\")\n",
    "train.head()"
   ]
  },
  {
   "cell_type": "code",
   "execution_count": 3,
   "metadata": {},
   "outputs": [],
   "source": [
    "def analyzer(x):\n",
    "    return x.split()\n",
    "from sklearn.feature_extraction.text import TfidfVectorizer\n",
    "vectorizer = TfidfVectorizer(smooth_idf=True,\n",
    "                                analyzer=analyzer,\n",
    "                                ngram_range=(1, 1),\n",
    "                                min_df=0.1, norm='l1')\n",
    "sparse_vector = vectorizer.fit_transform(train.tokens.apply(lambda x: ' '.join(x)).tolist())\n",
    "label = train.label.to_list()"
   ]
  },
  {
   "cell_type": "code",
   "execution_count": 19,
   "metadata": {},
   "outputs": [],
   "source": [
    "model = XGBClassifier(booster=\"gbtree\",objective=\"binary:logistic\")\n",
    "from sklearn.model_selection import GridSearchCV,GroupKFold\n",
    "gsCv = GridSearchCV(model,\n",
    "                   {'max_depth': [1,2,3],\n",
    "                    'n_estimators':[120],\n",
    "                   'min_child_weight':[1],\n",
    "                   'gamma':[0.01],\n",
    "                   'subsample':[0.5,0.7,1],\n",
    "                   })\n",
    "gsCv.fit(sparse_vector,label)\n",
    "gsCv.best_params_,gsCv.best_score_"
   ]
  },
  {
   "cell_type": "code",
   "execution_count": 32,
   "metadata": {},
   "outputs": [
    {
     "data": {
      "text/plain": [
       "({'learning_rate ': 1, 'n_estimators': 100}, 0.9873015873015873)"
      ]
     },
     "execution_count": 32,
     "metadata": {},
     "output_type": "execute_result"
    }
   ],
   "source": [
    "new_model = XGBClassifier(booster=\"gbtree\",objective=\"binary:logistic\",**gsCv.best_params_)\n",
    "gsCv2 = GridSearchCV(new_model, \n",
    "                   {'learning_rate ': [0.1,1],\n",
    "                   'n_estimators':[100,110,120,130]})\n",
    "gsCv2.fit(sparse_vector,label)\n",
    "gsCv2.best_params_,gsCv2.best_score_"
   ]
  },
  {
   "cell_type": "code",
   "execution_count": 36,
   "metadata": {},
   "outputs": [
    {
     "name": "stdout",
     "output_type": "stream",
     "text": [
      "[0]\tvalidation_0-error:0.04924\n",
      "Will train until validation_0-error hasn't improved in 10 rounds.\n",
      "[1]\tvalidation_0-error:0.02859\n",
      "[2]\tvalidation_0-error:0.02621\n",
      "[3]\tvalidation_0-error:0.01509\n",
      "[4]\tvalidation_0-error:0.01509\n",
      "[5]\tvalidation_0-error:0.01430\n",
      "[6]\tvalidation_0-error:0.00874\n",
      "[7]\tvalidation_0-error:0.01271\n",
      "[8]\tvalidation_0-error:0.00874\n",
      "[9]\tvalidation_0-error:0.00635\n",
      "[10]\tvalidation_0-error:0.00794\n",
      "[11]\tvalidation_0-error:0.00556\n",
      "[12]\tvalidation_0-error:0.00477\n",
      "[13]\tvalidation_0-error:0.00477\n",
      "[14]\tvalidation_0-error:0.00477\n",
      "[15]\tvalidation_0-error:0.00397\n",
      "[16]\tvalidation_0-error:0.00397\n",
      "[17]\tvalidation_0-error:0.00477\n",
      "[18]\tvalidation_0-error:0.00318\n",
      "[19]\tvalidation_0-error:0.00238\n",
      "[20]\tvalidation_0-error:0.00079\n",
      "[21]\tvalidation_0-error:0.00159\n",
      "[22]\tvalidation_0-error:0.00159\n",
      "[23]\tvalidation_0-error:0.00159\n",
      "[24]\tvalidation_0-error:0.00159\n",
      "[25]\tvalidation_0-error:0.00159\n",
      "[26]\tvalidation_0-error:0.00079\n",
      "[27]\tvalidation_0-error:0.00079\n",
      "[28]\tvalidation_0-error:0.00079\n",
      "[29]\tvalidation_0-error:0.00079\n",
      "[30]\tvalidation_0-error:0.00079\n",
      "Stopping. Best iteration:\n",
      "[20]\tvalidation_0-error:0.00079\n",
      "\n"
     ]
    }
   ],
   "source": [
    "res_model = XGBClassifier(booster=\"gbtree\",objective=\"binary:logistic\",gamma=0.01,verbosity=1,max_depth=2,min_child_weight=1,n_estimators=100,learning_rate=1,subsample=0.5)\n",
    "res_model = res_model.fit(sparse_vector,label,early_stopping_rounds=10, eval_metric=\"error\",eval_set=[(sparse_vector, label)])"
   ]
  },
  {
   "cell_type": "code",
   "execution_count": 38,
   "metadata": {},
   "outputs": [
    {
     "data": {
      "text/plain": [
       "['./model1.model']"
      ]
     },
     "execution_count": 38,
     "metadata": {},
     "output_type": "execute_result"
    }
   ],
   "source": [
    "import joblib\n",
    "model_path = \"./model1.model\"\n",
    "joblib.dump(res_model, model_path)"
   ]
  }
 ],
 "metadata": {
  "kernelspec": {
   "display_name": "python36",
   "language": "python",
   "name": "python36"
  },
  "language_info": {
   "codemirror_mode": {
    "name": "ipython",
    "version": 3
   },
   "file_extension": ".py",
   "mimetype": "text/x-python",
   "name": "python",
   "nbconvert_exporter": "python",
   "pygments_lexer": "ipython3",
   "version": "3.6.10"
  }
 },
 "nbformat": 4,
 "nbformat_minor": 4
}
